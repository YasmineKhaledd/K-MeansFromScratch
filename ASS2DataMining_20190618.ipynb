{
 "cells": [
  {
   "cell_type": "code",
   "execution_count": 451,
   "metadata": {},
   "outputs": [],
   "source": [
    "import numpy as np\n",
    "import pandas as pd"
   ]
  },
  {
   "cell_type": "code",
   "execution_count": 452,
   "metadata": {},
   "outputs": [],
   "source": [
    "# Load data\n",
    "data = pd.read_csv('D:\\crime_data.csv', index_col=0)"
   ]
  },
  {
   "cell_type": "code",
   "execution_count": 453,
   "metadata": {},
   "outputs": [
    {
     "data": {
      "text/html": [
       "<div>\n",
       "<style scoped>\n",
       "    .dataframe tbody tr th:only-of-type {\n",
       "        vertical-align: middle;\n",
       "    }\n",
       "\n",
       "    .dataframe tbody tr th {\n",
       "        vertical-align: top;\n",
       "    }\n",
       "\n",
       "    .dataframe thead th {\n",
       "        text-align: right;\n",
       "    }\n",
       "</style>\n",
       "<table border=\"1\" class=\"dataframe\">\n",
       "  <thead>\n",
       "    <tr style=\"text-align: right;\">\n",
       "      <th></th>\n",
       "      <th>Murder</th>\n",
       "      <th>Assault</th>\n",
       "      <th>UrbanPopulation</th>\n",
       "      <th>Rape</th>\n",
       "    </tr>\n",
       "    <tr>\n",
       "      <th>State</th>\n",
       "      <th></th>\n",
       "      <th></th>\n",
       "      <th></th>\n",
       "      <th></th>\n",
       "    </tr>\n",
       "  </thead>\n",
       "  <tbody>\n",
       "    <tr>\n",
       "      <th>Alabama</th>\n",
       "      <td>13.2</td>\n",
       "      <td>236</td>\n",
       "      <td>58</td>\n",
       "      <td>21.2</td>\n",
       "    </tr>\n",
       "    <tr>\n",
       "      <th>Alaska</th>\n",
       "      <td>10.0</td>\n",
       "      <td>263</td>\n",
       "      <td>48</td>\n",
       "      <td>44.5</td>\n",
       "    </tr>\n",
       "    <tr>\n",
       "      <th>Arizona</th>\n",
       "      <td>8.1</td>\n",
       "      <td>294</td>\n",
       "      <td>80</td>\n",
       "      <td>31.0</td>\n",
       "    </tr>\n",
       "    <tr>\n",
       "      <th>Arkansas</th>\n",
       "      <td>8.8</td>\n",
       "      <td>190</td>\n",
       "      <td>50</td>\n",
       "      <td>19.5</td>\n",
       "    </tr>\n",
       "    <tr>\n",
       "      <th>California</th>\n",
       "      <td>9.0</td>\n",
       "      <td>276</td>\n",
       "      <td>91</td>\n",
       "      <td>40.6</td>\n",
       "    </tr>\n",
       "  </tbody>\n",
       "</table>\n",
       "</div>"
      ],
      "text/plain": [
       "            Murder  Assault  UrbanPopulation  Rape\n",
       "State                                             \n",
       "Alabama       13.2      236               58  21.2\n",
       "Alaska        10.0      263               48  44.5\n",
       "Arizona        8.1      294               80  31.0\n",
       "Arkansas       8.8      190               50  19.5\n",
       "California     9.0      276               91  40.6"
      ]
     },
     "execution_count": 453,
     "metadata": {},
     "output_type": "execute_result"
    }
   ],
   "source": [
    "data.head()"
   ]
  },
  {
   "cell_type": "code",
   "execution_count": 454,
   "metadata": {},
   "outputs": [
    {
     "data": {
      "text/html": [
       "<div>\n",
       "<style scoped>\n",
       "    .dataframe tbody tr th:only-of-type {\n",
       "        vertical-align: middle;\n",
       "    }\n",
       "\n",
       "    .dataframe tbody tr th {\n",
       "        vertical-align: top;\n",
       "    }\n",
       "\n",
       "    .dataframe thead th {\n",
       "        text-align: right;\n",
       "    }\n",
       "</style>\n",
       "<table border=\"1\" class=\"dataframe\">\n",
       "  <thead>\n",
       "    <tr style=\"text-align: right;\">\n",
       "      <th></th>\n",
       "      <th>Murder</th>\n",
       "      <th>Assault</th>\n",
       "      <th>UrbanPopulation</th>\n",
       "      <th>Rape</th>\n",
       "    </tr>\n",
       "  </thead>\n",
       "  <tbody>\n",
       "    <tr>\n",
       "      <th>count</th>\n",
       "      <td>50.00000</td>\n",
       "      <td>50.000000</td>\n",
       "      <td>50.000000</td>\n",
       "      <td>50.000000</td>\n",
       "    </tr>\n",
       "    <tr>\n",
       "      <th>mean</th>\n",
       "      <td>7.78800</td>\n",
       "      <td>170.760000</td>\n",
       "      <td>65.540000</td>\n",
       "      <td>21.232000</td>\n",
       "    </tr>\n",
       "    <tr>\n",
       "      <th>std</th>\n",
       "      <td>4.35551</td>\n",
       "      <td>83.337661</td>\n",
       "      <td>14.474763</td>\n",
       "      <td>9.366385</td>\n",
       "    </tr>\n",
       "    <tr>\n",
       "      <th>min</th>\n",
       "      <td>0.80000</td>\n",
       "      <td>45.000000</td>\n",
       "      <td>32.000000</td>\n",
       "      <td>7.300000</td>\n",
       "    </tr>\n",
       "    <tr>\n",
       "      <th>25%</th>\n",
       "      <td>4.07500</td>\n",
       "      <td>109.000000</td>\n",
       "      <td>54.500000</td>\n",
       "      <td>15.075000</td>\n",
       "    </tr>\n",
       "    <tr>\n",
       "      <th>50%</th>\n",
       "      <td>7.25000</td>\n",
       "      <td>159.000000</td>\n",
       "      <td>66.000000</td>\n",
       "      <td>20.100000</td>\n",
       "    </tr>\n",
       "    <tr>\n",
       "      <th>75%</th>\n",
       "      <td>11.25000</td>\n",
       "      <td>249.000000</td>\n",
       "      <td>77.750000</td>\n",
       "      <td>26.175000</td>\n",
       "    </tr>\n",
       "    <tr>\n",
       "      <th>max</th>\n",
       "      <td>17.40000</td>\n",
       "      <td>337.000000</td>\n",
       "      <td>91.000000</td>\n",
       "      <td>46.000000</td>\n",
       "    </tr>\n",
       "  </tbody>\n",
       "</table>\n",
       "</div>"
      ],
      "text/plain": [
       "         Murder     Assault  UrbanPopulation       Rape\n",
       "count  50.00000   50.000000        50.000000  50.000000\n",
       "mean    7.78800  170.760000        65.540000  21.232000\n",
       "std     4.35551   83.337661        14.474763   9.366385\n",
       "min     0.80000   45.000000        32.000000   7.300000\n",
       "25%     4.07500  109.000000        54.500000  15.075000\n",
       "50%     7.25000  159.000000        66.000000  20.100000\n",
       "75%    11.25000  249.000000        77.750000  26.175000\n",
       "max    17.40000  337.000000        91.000000  46.000000"
      ]
     },
     "execution_count": 454,
     "metadata": {},
     "output_type": "execute_result"
    }
   ],
   "source": [
    "data.describe()"
   ]
  },
  {
   "cell_type": "code",
   "execution_count": 455,
   "metadata": {},
   "outputs": [],
   "source": [
    "# Normalize the data\n",
    "data = (data - np.mean(data, axis=0)) / np.std(data, axis=0)"
   ]
  },
  {
   "cell_type": "code",
   "execution_count": 456,
   "metadata": {},
   "outputs": [],
   "source": [
    "#Manhattan Distance\n",
    "def distance(x1, x2):\n",
    "    return np.sum(np.abs(x1 - x2))"
   ]
  },
  {
   "cell_type": "code",
   "execution_count": 457,
   "metadata": {},
   "outputs": [],
   "source": [
    "def k_means_clustering(data, k):\n",
    "    # Choose initial centroids randomly\n",
    "    initial_centroids = data.sample(n=k, random_state=1)\n",
    "    centroids = initial_centroids.copy()\n",
    "\n",
    "    clusters = {i: [] for i in range(k)}\n",
    "\n",
    "    # Assign each data point to its nearest centroid\n",
    "    for index, row in data.iterrows():\n",
    "        distances = [distance(row[1:], centroids.iloc[i][1:]) for i in range(k)]\n",
    "        closest_centroid_index = np.argmin(distances)\n",
    "        clusters[closest_centroid_index].append(index)\n",
    "\n",
    "    # Update centroids\n",
    "    for i in range(k):\n",
    "        centroids.iloc[i] = data.loc[clusters[i]].mean()\n",
    "\n",
    "    # Continue iterating until maximum number of iterations\n",
    "    max_iterations = 100\n",
    "    iteration = 0\n",
    "    while True:\n",
    "        \n",
    "        new_clusters = {i: [] for i in range(k)}\n",
    "\n",
    "        # Assign each data point to its nearest centroid\n",
    "        for index, row in data.iterrows():\n",
    "            distances = [distance(row[1:], centroids.iloc[i][1:]) for i in range(k)]\n",
    "            closest_centroid_index = np.argmin(distances)\n",
    "            new_clusters[closest_centroid_index].append(index)\n",
    "\n",
    "        # converge if no points have changed clusters\n",
    "        if new_clusters == clusters:\n",
    "            break\n",
    "\n",
    "        # Otherwise, update clusters and centroids\n",
    "        clusters = new_clusters\n",
    "        for i in range(k):\n",
    "            centroids.iloc[i] = data.loc[clusters[i]].mean()\n",
    "\n",
    "        # Check if maximum number of iterations reached\n",
    "        iteration += 1\n",
    "        if iteration >= max_iterations:\n",
    "            break\n",
    "\n",
    "    return clusters, centroids "
   ]
  },
  {
   "cell_type": "code",
   "execution_count": 458,
   "metadata": {},
   "outputs": [],
   "source": [
    "# Get user input for number of clusters\n",
    "k = int(input('Enter the number of clusters (k): '))"
   ]
  },
  {
   "cell_type": "code",
   "execution_count": 459,
   "metadata": {},
   "outputs": [],
   "source": [
    "# Cluster the data\n",
    "clusters, centroids = k_means_clustering(data, k)"
   ]
  },
  {
   "cell_type": "code",
   "execution_count": 460,
   "metadata": {},
   "outputs": [
    {
     "name": "stdout",
     "output_type": "stream",
     "text": [
      "Cluster 1:\n",
      " ['Alabama', 'Alaska', 'Arizona', 'California', 'Colorado', 'Delaware', 'Florida', 'Georgia', 'Illinois', 'Louisiana', 'Maryland', 'Michigan', 'Missouri', 'Nevada', 'New Mexico', 'New York', 'Oregon', 'South Carolina', 'Tennessee', 'Texas', 'Washington']\n",
      "Cluster 2:\n",
      " ['Arkansas', 'Connecticut', 'Hawaii', 'Idaho', 'Indiana', 'Iowa', 'Kansas', 'Kentucky', 'Maine', 'Massachusetts', 'Minnesota', 'Mississippi', 'Montana', 'Nebraska', 'New Hampshire', 'New Jersey', 'North Carolina', 'North Dakota', 'Ohio', 'Oklahoma', 'Pennsylvania', 'Rhode Island', 'South Dakota', 'Utah', 'Vermont', 'Virginia', 'West Virginia', 'Wisconsin', 'Wyoming']\n",
      "\n",
      "Outlier records:\n",
      "          Murder   Assault  UrbanPopulation      Rape\n",
      "State                                                \n",
      "Alaska  0.513019  1.118060        -1.224067  2.509424\n",
      "Nevada  1.023254  0.984726         1.078909  2.671197\n"
     ]
    }
   ],
   "source": [
    "# Print clusters\n",
    "for i in range(k):\n",
    "    cluster_indices = clusters[i]\n",
    "    cluster_data = data.loc[cluster_indices]\n",
    "    cluster_states = cluster_data.index.tolist()\n",
    "    print(f'Cluster {i+1}:\\n {cluster_states}')\n",
    "\n",
    "    \n",
    "# Detect and remove outliers using IQR\n",
    "Q1 = data.quantile(0.25)\n",
    "Q3 = data.quantile(0.75)\n",
    "IQR = Q3 - Q1\n",
    "outliers = ((data < (Q1 - 1.5 * IQR)) | (data > (Q3 + 1.5 * IQR))).any(axis=1)\n",
    "if outliers.any():\n",
    "    print(\"\\nOutlier records:\")\n",
    "    print(data[outliers])\n",
    "    data = data[~outliers]  "
   ]
  }
 ],
 "metadata": {
  "kernelspec": {
   "display_name": "base",
   "language": "python",
   "name": "python3"
  },
  "language_info": {
   "codemirror_mode": {
    "name": "ipython",
    "version": 3
   },
   "file_extension": ".py",
   "mimetype": "text/x-python",
   "name": "python",
   "nbconvert_exporter": "python",
   "pygments_lexer": "ipython3",
   "version": "3.9.7"
  },
  "orig_nbformat": 4
 },
 "nbformat": 4,
 "nbformat_minor": 2
}
